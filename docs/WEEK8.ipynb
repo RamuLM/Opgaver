{
 "cells": [
  {
   "cell_type": "markdown",
   "metadata": {},
   "source": [
    "This is the data"
   ]
  },
  {
   "cell_type": "code",
   "execution_count": 1,
   "metadata": {},
   "outputs": [
    {
     "name": "stdout",
     "output_type": "stream",
     "text": [
      "C:\\Users\\thoma\\Desktop\\Social_data_analyse\\socialdata2024\n"
     ]
    }
   ],
   "source": [
    "cd C:/Users/thoma/Desktop/Social_data_analyse/socialdata2024\n",
    "cd C:/Users/thoma/Desktop/Social_data_analyse/Opgaver"
   ]
  },
  {
   "cell_type": "code",
   "execution_count": 2,
   "metadata": {},
   "outputs": [],
   "source": [
    "import pandas as pd\n",
    "import numpy as np\n",
    "import matplotlib.pyplot as plt\n",
    "import plotly.express as px"
   ]
  },
  {
   "cell_type": "code",
   "execution_count": 3,
   "metadata": {},
   "outputs": [],
   "source": [
    "# Load data\n",
    "df = pd.read_csv(\"C:/Users/thoma/Desktop/Social_data_analyse/Police_Department_Incident_Reports.csv\")"
   ]
  },
  {
   "cell_type": "code",
   "execution_count": 4,
   "metadata": {},
   "outputs": [
    {
     "name": "stdout",
     "output_type": "stream",
     "text": [
      "<class 'pandas.core.frame.DataFrame'>\n",
      "RangeIndex: 2129525 entries, 0 to 2129524\n",
      "Data columns (total 35 columns):\n",
      " #   Column                                                    Dtype  \n",
      "---  ------                                                    -----  \n",
      " 0   PdId                                                      int64  \n",
      " 1   IncidntNum                                                int64  \n",
      " 2   Incident Code                                             int64  \n",
      " 3   Category                                                  object \n",
      " 4   Descript                                                  object \n",
      " 5   DayOfWeek                                                 object \n",
      " 6   Date                                                      object \n",
      " 7   Time                                                      object \n",
      " 8   PdDistrict                                                object \n",
      " 9   Resolution                                                object \n",
      " 10  Address                                                   object \n",
      " 11  X                                                         float64\n",
      " 12  Y                                                         float64\n",
      " 13  location                                                  object \n",
      " 14  SF Find Neighborhoods 2 2                                 float64\n",
      " 15  Current Police Districts 2 2                              float64\n",
      " 16  Current Supervisor Districts 2 2                          float64\n",
      " 17  Analysis Neighborhoods 2 2                                float64\n",
      " 18  DELETE - Fire Prevention Districts 2 2                    float64\n",
      " 19  DELETE - Police Districts 2 2                             float64\n",
      " 20  DELETE - Supervisor Districts 2 2                         float64\n",
      " 21  DELETE - Zip Codes 2 2                                    float64\n",
      " 22  DELETE - Neighborhoods 2 2                                float64\n",
      " 23  DELETE - 2017 Fix It Zones 2 2                            float64\n",
      " 24  Civic Center Harm Reduction Project Boundary 2 2          float64\n",
      " 25  Fix It Zones as of 2017-11-06  2 2                        float64\n",
      " 26  DELETE - HSOC Zones 2 2                                   float64\n",
      " 27  Fix It Zones as of 2018-02-07 2 2                         float64\n",
      " 28  CBD, BID and GBD Boundaries as of 2017 2 2                float64\n",
      " 29  Areas of Vulnerability, 2016 2 2                          float64\n",
      " 30  Central Market/Tenderloin Boundary 2 2                    float64\n",
      " 31  Central Market/Tenderloin Boundary Polygon - Updated 2 2  float64\n",
      " 32  HSOC Zones as of 2018-06-05 2 2                           float64\n",
      " 33  OWED Public Spaces 2 2                                    float64\n",
      " 34  Neighborhoods 2                                           float64\n",
      "dtypes: float64(23), int64(3), object(9)\n",
      "memory usage: 568.6+ MB\n"
     ]
    },
    {
     "data": {
      "text/plain": [
       "PdId                                                              0\n",
       "IncidntNum                                                        0\n",
       "Incident Code                                                     0\n",
       "Category                                                          0\n",
       "Descript                                                          0\n",
       "DayOfWeek                                                         0\n",
       "Date                                                              0\n",
       "Time                                                              0\n",
       "PdDistrict                                                        1\n",
       "Resolution                                                        0\n",
       "Address                                                           0\n",
       "X                                                                 0\n",
       "Y                                                                 0\n",
       "location                                                          0\n",
       "SF Find Neighborhoods 2 2                                      5967\n",
       "Current Police Districts 2 2                                   1081\n",
       "Current Supervisor Districts 2 2                                647\n",
       "Analysis Neighborhoods 2 2                                     1025\n",
       "DELETE - Fire Prevention Districts 2 2                         5209\n",
       "DELETE - Police Districts 2 2                                  1485\n",
       "DELETE - Supervisor Districts 2 2                               647\n",
       "DELETE - Zip Codes 2 2                                          493\n",
       "DELETE - Neighborhoods 2 2                                     1025\n",
       "DELETE - 2017 Fix It Zones 2 2                              1597248\n",
       "Civic Center Harm Reduction Project Boundary 2 2            1816708\n",
       "Fix It Zones as of 2017-11-06  2 2                          1582873\n",
       "DELETE - HSOC Zones 2 2                                     1669578\n",
       "Fix It Zones as of 2018-02-07 2 2                           1577363\n",
       "CBD, BID and GBD Boundaries as of 2017 2 2                  1576063\n",
       "Areas of Vulnerability, 2016 2 2                               1025\n",
       "Central Market/Tenderloin Boundary 2 2                      1795805\n",
       "Central Market/Tenderloin Boundary Polygon - Updated 2 2    1795589\n",
       "HSOC Zones as of 2018-06-05 2 2                             1640929\n",
       "OWED Public Spaces 2 2                                      2013545\n",
       "Neighborhoods 2                                                5967\n",
       "dtype: int64"
      ]
     },
     "execution_count": 4,
     "metadata": {},
     "output_type": "execute_result"
    }
   ],
   "source": [
    "# Describe the data\n",
    "\n",
    "df.head()\n",
    "df.shape\n",
    "df.info()\n",
    "df.describe()\n",
    "df.isnull().sum()"
   ]
  },
  {
   "cell_type": "code",
   "execution_count": null,
   "metadata": {},
   "outputs": [],
   "source": []
  }
 ],
 "metadata": {
  "kernelspec": {
   "display_name": "Python 3",
   "language": "python",
   "name": "python3"
  },
  "language_info": {
   "codemirror_mode": {
    "name": "ipython",
    "version": 3
   },
   "file_extension": ".py",
   "mimetype": "text/x-python",
   "name": "python",
   "nbconvert_exporter": "python",
   "pygments_lexer": "ipython3",
   "version": "3.10.10"
  }
 },
 "nbformat": 4,
 "nbformat_minor": 2
}
